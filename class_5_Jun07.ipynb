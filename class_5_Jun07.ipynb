{
 "cells": [
  {
   "cell_type": "code",
   "execution_count": 3,
   "metadata": {},
   "outputs": [],
   "source": [
    "import pandas as pd\n",
    "import matplotlib.pyplot as plt\n",
    "import seaborn as sns\n",
    "import numpy as np"
   ]
  },
  {
   "cell_type": "code",
   "execution_count": 4,
   "metadata": {},
   "outputs": [
    {
     "data": {
      "text/html": [
       "<div>\n",
       "<style scoped>\n",
       "    .dataframe tbody tr th:only-of-type {\n",
       "        vertical-align: middle;\n",
       "    }\n",
       "\n",
       "    .dataframe tbody tr th {\n",
       "        vertical-align: top;\n",
       "    }\n",
       "\n",
       "    .dataframe thead th {\n",
       "        text-align: right;\n",
       "    }\n",
       "</style>\n",
       "<table border=\"1\" class=\"dataframe\">\n",
       "  <thead>\n",
       "    <tr style=\"text-align: right;\">\n",
       "      <th></th>\n",
       "      <th>Unnamed: 0</th>\n",
       "      <th>event_time</th>\n",
       "      <th>event_type</th>\n",
       "      <th>product_id</th>\n",
       "      <th>category_id</th>\n",
       "      <th>category_code</th>\n",
       "      <th>brand</th>\n",
       "      <th>price</th>\n",
       "      <th>user_id</th>\n",
       "      <th>user_session</th>\n",
       "    </tr>\n",
       "  </thead>\n",
       "  <tbody>\n",
       "    <tr>\n",
       "      <th>0</th>\n",
       "      <td>0</td>\n",
       "      <td>2019-11-01 00:00:00 UTC</td>\n",
       "      <td>view</td>\n",
       "      <td>1003461</td>\n",
       "      <td>2053013555631882655</td>\n",
       "      <td>electronics.smartphone</td>\n",
       "      <td>xiaomi</td>\n",
       "      <td>489.07</td>\n",
       "      <td>520088904</td>\n",
       "      <td>4d3b30da-a5e4-49df-b1a8-ba5943f1dd33</td>\n",
       "    </tr>\n",
       "    <tr>\n",
       "      <th>1</th>\n",
       "      <td>1</td>\n",
       "      <td>2019-11-01 00:00:00 UTC</td>\n",
       "      <td>view</td>\n",
       "      <td>5000088</td>\n",
       "      <td>2053013566100866035</td>\n",
       "      <td>appliances.sewing_machine</td>\n",
       "      <td>janome</td>\n",
       "      <td>293.65</td>\n",
       "      <td>530496790</td>\n",
       "      <td>8e5f4f83-366c-4f70-860e-ca7417414283</td>\n",
       "    </tr>\n",
       "    <tr>\n",
       "      <th>2</th>\n",
       "      <td>2</td>\n",
       "      <td>2019-11-01 00:00:01 UTC</td>\n",
       "      <td>view</td>\n",
       "      <td>17302664</td>\n",
       "      <td>2053013553853497655</td>\n",
       "      <td>NaN</td>\n",
       "      <td>creed</td>\n",
       "      <td>28.31</td>\n",
       "      <td>561587266</td>\n",
       "      <td>755422e7-9040-477b-9bd2-6a6e8fd97387</td>\n",
       "    </tr>\n",
       "    <tr>\n",
       "      <th>3</th>\n",
       "      <td>3</td>\n",
       "      <td>2019-11-01 00:00:01 UTC</td>\n",
       "      <td>view</td>\n",
       "      <td>3601530</td>\n",
       "      <td>2053013563810775923</td>\n",
       "      <td>appliances.kitchen.washer</td>\n",
       "      <td>lg</td>\n",
       "      <td>712.87</td>\n",
       "      <td>518085591</td>\n",
       "      <td>3bfb58cd-7892-48cc-8020-2f17e6de6e7f</td>\n",
       "    </tr>\n",
       "    <tr>\n",
       "      <th>4</th>\n",
       "      <td>4</td>\n",
       "      <td>2019-11-01 00:00:01 UTC</td>\n",
       "      <td>view</td>\n",
       "      <td>1004775</td>\n",
       "      <td>2053013555631882655</td>\n",
       "      <td>electronics.smartphone</td>\n",
       "      <td>xiaomi</td>\n",
       "      <td>183.27</td>\n",
       "      <td>558856683</td>\n",
       "      <td>313628f1-68b8-460d-84f6-cec7a8796ef2</td>\n",
       "    </tr>\n",
       "  </tbody>\n",
       "</table>\n",
       "</div>"
      ],
      "text/plain": [
       "   Unnamed: 0               event_time event_type  product_id   \n",
       "0           0  2019-11-01 00:00:00 UTC       view     1003461  \\\n",
       "1           1  2019-11-01 00:00:00 UTC       view     5000088   \n",
       "2           2  2019-11-01 00:00:01 UTC       view    17302664   \n",
       "3           3  2019-11-01 00:00:01 UTC       view     3601530   \n",
       "4           4  2019-11-01 00:00:01 UTC       view     1004775   \n",
       "\n",
       "           category_id              category_code   brand   price    user_id   \n",
       "0  2053013555631882655     electronics.smartphone  xiaomi  489.07  520088904  \\\n",
       "1  2053013566100866035  appliances.sewing_machine  janome  293.65  530496790   \n",
       "2  2053013553853497655                        NaN   creed   28.31  561587266   \n",
       "3  2053013563810775923  appliances.kitchen.washer      lg  712.87  518085591   \n",
       "4  2053013555631882655     electronics.smartphone  xiaomi  183.27  558856683   \n",
       "\n",
       "                           user_session  \n",
       "0  4d3b30da-a5e4-49df-b1a8-ba5943f1dd33  \n",
       "1  8e5f4f83-366c-4f70-860e-ca7417414283  \n",
       "2  755422e7-9040-477b-9bd2-6a6e8fd97387  \n",
       "3  3bfb58cd-7892-48cc-8020-2f17e6de6e7f  \n",
       "4  313628f1-68b8-460d-84f6-cec7a8796ef2  "
      ]
     },
     "execution_count": 4,
     "metadata": {},
     "output_type": "execute_result"
    }
   ],
   "source": [
    "df = pd.read_csv(r'C:\\Users\\samue\\Downloads\\new_data.csv.zip')\n",
    "df.head()"
   ]
  },
  {
   "cell_type": "code",
   "execution_count": 5,
   "metadata": {},
   "outputs": [
    {
     "name": "stdout",
     "output_type": "stream",
     "text": [
      "<class 'pandas.core.frame.DataFrame'>\n",
      "RangeIndex: 10000000 entries, 0 to 9999999\n",
      "Data columns (total 10 columns):\n",
      " #   Column         Dtype  \n",
      "---  ------         -----  \n",
      " 0   Unnamed: 0     int64  \n",
      " 1   event_time     object \n",
      " 2   event_type     object \n",
      " 3   product_id     int64  \n",
      " 4   category_id    int64  \n",
      " 5   category_code  object \n",
      " 6   brand          object \n",
      " 7   price          float64\n",
      " 8   user_id        int64  \n",
      " 9   user_session   object \n",
      "dtypes: float64(1), int64(4), object(5)\n",
      "memory usage: 762.9+ MB\n"
     ]
    }
   ],
   "source": [
    "df.info()"
   ]
  },
  {
   "cell_type": "code",
   "execution_count": 6,
   "metadata": {},
   "outputs": [
    {
     "data": {
      "text/plain": [
       "array(['view', 'cart', 'purchase'], dtype=object)"
      ]
     },
     "execution_count": 6,
     "metadata": {},
     "output_type": "execute_result"
    }
   ],
   "source": [
    "df['event_type'].unique()"
   ]
  },
  {
   "cell_type": "code",
   "execution_count": 7,
   "metadata": {},
   "outputs": [
    {
     "data": {
      "text/plain": [
       "array(['electronics.smartphone', 'appliances.sewing_machine', nan,\n",
       "       'appliances.kitchen.washer', 'computers.notebook',\n",
       "       'furniture.living_room.sofa', 'appliances.kitchen.refrigerators',\n",
       "       'furniture.kitchen.chair', 'appliances.kitchen.dishwasher',\n",
       "       'electronics.audio.headphone', 'appliances.environment.vacuum',\n",
       "       'appliances.environment.water_heater', 'electronics.camera.video',\n",
       "       'electronics.clocks', 'electronics.video.tv', 'apparel.tshirt',\n",
       "       'apparel.jeans', 'construction.tools.drill',\n",
       "       'auto.accessories.compressor', 'computers.components.motherboard',\n",
       "       'computers.peripherals.printer', 'computers.desktop',\n",
       "       'auto.accessories.player', 'accessories.bag',\n",
       "       'computers.components.videocards', 'furniture.bedroom.bed',\n",
       "       'furniture.bathroom.bath', 'electronics.audio.subwoofer',\n",
       "       'construction.tools.welding', 'construction.tools.saw',\n",
       "       'furniture.kitchen.table', 'apparel.shoes',\n",
       "       'construction.tools.light', 'apparel.shirt',\n",
       "       'construction.tools.painting', 'furniture.living_room.cabinet',\n",
       "       'appliances.personal.massager', 'apparel.costume',\n",
       "       'computers.peripherals.keyboard', 'kids.toys',\n",
       "       'computers.components.memory', 'electronics.tablet',\n",
       "       'appliances.kitchen.hood', 'kids.dolls', 'apparel.trousers',\n",
       "       'kids.carriage', 'sport.bicycle', 'electronics.telephone',\n",
       "       'computers.components.hdd', 'computers.components.cpu',\n",
       "       'auto.accessories.videoregister', 'apparel.shoes.keds',\n",
       "       'appliances.environment.air_conditioner',\n",
       "       'appliances.kitchen.blender',\n",
       "       'electronics.audio.music_tools.piano', 'apparel.shoes.moccasins',\n",
       "       'apparel.underwear', 'appliances.personal.scales',\n",
       "       'electronics.audio.acoustic', 'auto.accessories.winch',\n",
       "       'accessories.wallet', 'appliances.kitchen.microwave',\n",
       "       'computers.components.cooler', 'appliances.kitchen.meat_grinder',\n",
       "       'apparel.dress', 'appliances.kitchen.oven', 'apparel.jumper',\n",
       "       'computers.peripherals.mouse', 'computers.peripherals.monitor',\n",
       "       'appliances.iron', 'construction.tools.pump',\n",
       "       'auto.accessories.alarm', 'appliances.kitchen.coffee_machine',\n",
       "       'kids.skates', 'construction.tools.generator',\n",
       "       'appliances.kitchen.mixer', 'furniture.bedroom.pillow',\n",
       "       'sport.trainer', 'furniture.bathroom.toilet',\n",
       "       'apparel.shoes.ballet_shoes', 'computers.components.power_supply',\n",
       "       'construction.components.faucet', 'electronics.video.projector',\n",
       "       'furniture.living_room.chair', 'sport.snowboard',\n",
       "       'appliances.kitchen.hob', 'auto.accessories.radar',\n",
       "       'appliances.kitchen.grill', 'appliances.kitchen.kettle',\n",
       "       'appliances.personal.hair_cutter', 'appliances.ironing_board',\n",
       "       'appliances.environment.air_heater', 'auto.accessories.parktronic',\n",
       "       'kids.fmcg.diapers', 'electronics.audio.microphone',\n",
       "       'appliances.kitchen.steam_cooker', 'medicine.tools.tonometer',\n",
       "       'appliances.kitchen.toster', 'appliances.kitchen.juicer',\n",
       "       'computers.ebooks', 'country_yard.cultivator',\n",
       "       'appliances.kitchen.coffee_grinder', 'furniture.universal.light',\n",
       "       'sport.ski', 'apparel.shoes.slipons', 'apparel.scarf',\n",
       "       'furniture.bedroom.blanket', 'accessories.umbrella', 'kids.swing',\n",
       "       'apparel.belt', 'auto.accessories.anti_freeze',\n",
       "       'electronics.camera.photo', 'computers.peripherals.camera',\n",
       "       'stationery.cartrige', 'construction.tools.soldering',\n",
       "       'sport.tennis', 'country_yard.furniture.hammok',\n",
       "       'apparel.shoes.sandals', 'country_yard.lawn_mower',\n",
       "       'apparel.shoes.espadrilles', 'appliances.environment.fan',\n",
       "       'apparel.shoes.step_ins', 'apparel.sock', 'apparel.shorts',\n",
       "       'country_yard.furniture.bench', 'apparel.glove', 'apparel.skirt'],\n",
       "      dtype=object)"
      ]
     },
     "execution_count": 7,
     "metadata": {},
     "output_type": "execute_result"
    }
   ],
   "source": [
    "df['category_code'].unique()"
   ]
  },
  {
   "cell_type": "code",
   "execution_count": 8,
   "metadata": {},
   "outputs": [
    {
     "data": {
      "text/plain": [
       "event_type  category_code                         \n",
       "cart        accessories.bag                             48\n",
       "            apparel.shoes.keds                           2\n",
       "            appliances.environment.air_conditioner       4\n",
       "            appliances.environment.air_heater          249\n",
       "            appliances.environment.vacuum             1527\n",
       "Name: product_id, dtype: int64"
      ]
     },
     "execution_count": 8,
     "metadata": {},
     "output_type": "execute_result"
    }
   ],
   "source": [
    "df_product_id = df.groupby(['event_type','category_code'], as_index='False')['product_id'].count()\n",
    "df_product_id.head()"
   ]
  },
  {
   "cell_type": "code",
   "execution_count": 5,
   "metadata": {},
   "outputs": [],
   "source": [
    "df_category = df['category_code'].str.split(\".\", expand=True)\n"
   ]
  },
  {
   "cell_type": "code",
   "execution_count": 6,
   "metadata": {},
   "outputs": [
    {
     "data": {
      "text/html": [
       "<div>\n",
       "<style scoped>\n",
       "    .dataframe tbody tr th:only-of-type {\n",
       "        vertical-align: middle;\n",
       "    }\n",
       "\n",
       "    .dataframe tbody tr th {\n",
       "        vertical-align: top;\n",
       "    }\n",
       "\n",
       "    .dataframe thead th {\n",
       "        text-align: right;\n",
       "    }\n",
       "</style>\n",
       "<table border=\"1\" class=\"dataframe\">\n",
       "  <thead>\n",
       "    <tr style=\"text-align: right;\">\n",
       "      <th></th>\n",
       "      <th>0</th>\n",
       "      <th>1</th>\n",
       "      <th>2</th>\n",
       "      <th>3</th>\n",
       "    </tr>\n",
       "  </thead>\n",
       "  <tbody>\n",
       "    <tr>\n",
       "      <th>0</th>\n",
       "      <td>electronics</td>\n",
       "      <td>smartphone</td>\n",
       "      <td>None</td>\n",
       "      <td>None</td>\n",
       "    </tr>\n",
       "    <tr>\n",
       "      <th>1</th>\n",
       "      <td>appliances</td>\n",
       "      <td>sewing_machine</td>\n",
       "      <td>None</td>\n",
       "      <td>None</td>\n",
       "    </tr>\n",
       "    <tr>\n",
       "      <th>2</th>\n",
       "      <td>NaN</td>\n",
       "      <td>NaN</td>\n",
       "      <td>NaN</td>\n",
       "      <td>NaN</td>\n",
       "    </tr>\n",
       "    <tr>\n",
       "      <th>3</th>\n",
       "      <td>appliances</td>\n",
       "      <td>kitchen</td>\n",
       "      <td>washer</td>\n",
       "      <td>None</td>\n",
       "    </tr>\n",
       "    <tr>\n",
       "      <th>4</th>\n",
       "      <td>electronics</td>\n",
       "      <td>smartphone</td>\n",
       "      <td>None</td>\n",
       "      <td>None</td>\n",
       "    </tr>\n",
       "  </tbody>\n",
       "</table>\n",
       "</div>"
      ],
      "text/plain": [
       "             0               1       2     3\n",
       "0  electronics      smartphone    None  None\n",
       "1   appliances  sewing_machine    None  None\n",
       "2          NaN             NaN     NaN   NaN\n",
       "3   appliances         kitchen  washer  None\n",
       "4  electronics      smartphone    None  None"
      ]
     },
     "execution_count": 6,
     "metadata": {},
     "output_type": "execute_result"
    }
   ],
   "source": [
    "df_category.head()"
   ]
  },
  {
   "cell_type": "code",
   "execution_count": 8,
   "metadata": {},
   "outputs": [
    {
     "data": {
      "text/html": [
       "<div>\n",
       "<style scoped>\n",
       "    .dataframe tbody tr th:only-of-type {\n",
       "        vertical-align: middle;\n",
       "    }\n",
       "\n",
       "    .dataframe tbody tr th {\n",
       "        vertical-align: top;\n",
       "    }\n",
       "\n",
       "    .dataframe thead th {\n",
       "        text-align: right;\n",
       "    }\n",
       "</style>\n",
       "<table border=\"1\" class=\"dataframe\">\n",
       "  <thead>\n",
       "    <tr style=\"text-align: right;\">\n",
       "      <th></th>\n",
       "      <th>Unnamed: 0</th>\n",
       "      <th>event_time</th>\n",
       "      <th>event_type</th>\n",
       "      <th>product_id</th>\n",
       "      <th>category_id</th>\n",
       "      <th>category_code</th>\n",
       "      <th>brand</th>\n",
       "      <th>price</th>\n",
       "      <th>user_id</th>\n",
       "      <th>user_session</th>\n",
       "      <th>0</th>\n",
       "      <th>1</th>\n",
       "      <th>2</th>\n",
       "      <th>3</th>\n",
       "    </tr>\n",
       "  </thead>\n",
       "  <tbody>\n",
       "    <tr>\n",
       "      <th>0</th>\n",
       "      <td>0</td>\n",
       "      <td>2019-11-01 00:00:00 UTC</td>\n",
       "      <td>view</td>\n",
       "      <td>1003461</td>\n",
       "      <td>2053013555631882655</td>\n",
       "      <td>electronics.smartphone</td>\n",
       "      <td>xiaomi</td>\n",
       "      <td>489.07</td>\n",
       "      <td>520088904</td>\n",
       "      <td>4d3b30da-a5e4-49df-b1a8-ba5943f1dd33</td>\n",
       "      <td>electronics</td>\n",
       "      <td>smartphone</td>\n",
       "      <td>None</td>\n",
       "      <td>None</td>\n",
       "    </tr>\n",
       "    <tr>\n",
       "      <th>1</th>\n",
       "      <td>1</td>\n",
       "      <td>2019-11-01 00:00:00 UTC</td>\n",
       "      <td>view</td>\n",
       "      <td>5000088</td>\n",
       "      <td>2053013566100866035</td>\n",
       "      <td>appliances.sewing_machine</td>\n",
       "      <td>janome</td>\n",
       "      <td>293.65</td>\n",
       "      <td>530496790</td>\n",
       "      <td>8e5f4f83-366c-4f70-860e-ca7417414283</td>\n",
       "      <td>appliances</td>\n",
       "      <td>sewing_machine</td>\n",
       "      <td>None</td>\n",
       "      <td>None</td>\n",
       "    </tr>\n",
       "    <tr>\n",
       "      <th>2</th>\n",
       "      <td>2</td>\n",
       "      <td>2019-11-01 00:00:01 UTC</td>\n",
       "      <td>view</td>\n",
       "      <td>17302664</td>\n",
       "      <td>2053013553853497655</td>\n",
       "      <td>NaN</td>\n",
       "      <td>creed</td>\n",
       "      <td>28.31</td>\n",
       "      <td>561587266</td>\n",
       "      <td>755422e7-9040-477b-9bd2-6a6e8fd97387</td>\n",
       "      <td>NaN</td>\n",
       "      <td>NaN</td>\n",
       "      <td>NaN</td>\n",
       "      <td>NaN</td>\n",
       "    </tr>\n",
       "    <tr>\n",
       "      <th>3</th>\n",
       "      <td>3</td>\n",
       "      <td>2019-11-01 00:00:01 UTC</td>\n",
       "      <td>view</td>\n",
       "      <td>3601530</td>\n",
       "      <td>2053013563810775923</td>\n",
       "      <td>appliances.kitchen.washer</td>\n",
       "      <td>lg</td>\n",
       "      <td>712.87</td>\n",
       "      <td>518085591</td>\n",
       "      <td>3bfb58cd-7892-48cc-8020-2f17e6de6e7f</td>\n",
       "      <td>appliances</td>\n",
       "      <td>kitchen</td>\n",
       "      <td>washer</td>\n",
       "      <td>None</td>\n",
       "    </tr>\n",
       "    <tr>\n",
       "      <th>4</th>\n",
       "      <td>4</td>\n",
       "      <td>2019-11-01 00:00:01 UTC</td>\n",
       "      <td>view</td>\n",
       "      <td>1004775</td>\n",
       "      <td>2053013555631882655</td>\n",
       "      <td>electronics.smartphone</td>\n",
       "      <td>xiaomi</td>\n",
       "      <td>183.27</td>\n",
       "      <td>558856683</td>\n",
       "      <td>313628f1-68b8-460d-84f6-cec7a8796ef2</td>\n",
       "      <td>electronics</td>\n",
       "      <td>smartphone</td>\n",
       "      <td>None</td>\n",
       "      <td>None</td>\n",
       "    </tr>\n",
       "  </tbody>\n",
       "</table>\n",
       "</div>"
      ],
      "text/plain": [
       "   Unnamed: 0               event_time event_type  product_id   \n",
       "0           0  2019-11-01 00:00:00 UTC       view     1003461  \\\n",
       "1           1  2019-11-01 00:00:00 UTC       view     5000088   \n",
       "2           2  2019-11-01 00:00:01 UTC       view    17302664   \n",
       "3           3  2019-11-01 00:00:01 UTC       view     3601530   \n",
       "4           4  2019-11-01 00:00:01 UTC       view     1004775   \n",
       "\n",
       "           category_id              category_code   brand   price    user_id   \n",
       "0  2053013555631882655     electronics.smartphone  xiaomi  489.07  520088904  \\\n",
       "1  2053013566100866035  appliances.sewing_machine  janome  293.65  530496790   \n",
       "2  2053013553853497655                        NaN   creed   28.31  561587266   \n",
       "3  2053013563810775923  appliances.kitchen.washer      lg  712.87  518085591   \n",
       "4  2053013555631882655     electronics.smartphone  xiaomi  183.27  558856683   \n",
       "\n",
       "                           user_session            0               1       2   \n",
       "0  4d3b30da-a5e4-49df-b1a8-ba5943f1dd33  electronics      smartphone    None  \\\n",
       "1  8e5f4f83-366c-4f70-860e-ca7417414283   appliances  sewing_machine    None   \n",
       "2  755422e7-9040-477b-9bd2-6a6e8fd97387          NaN             NaN     NaN   \n",
       "3  3bfb58cd-7892-48cc-8020-2f17e6de6e7f   appliances         kitchen  washer   \n",
       "4  313628f1-68b8-460d-84f6-cec7a8796ef2  electronics      smartphone    None   \n",
       "\n",
       "      3  \n",
       "0  None  \n",
       "1  None  \n",
       "2   NaN  \n",
       "3  None  \n",
       "4  None  "
      ]
     },
     "execution_count": 8,
     "metadata": {},
     "output_type": "execute_result"
    }
   ],
   "source": [
    "df_split = pd.merge(df, df_category, left_index=True, right_index=True)\n",
    "df_split.head()"
   ]
  },
  {
   "cell_type": "code",
   "execution_count": 14,
   "metadata": {},
   "outputs": [],
   "source": [
    "df_split.dropna(subset=['category_code'], inplace=True)"
   ]
  },
  {
   "cell_type": "code",
   "execution_count": 22,
   "metadata": {},
   "outputs": [],
   "source": [
    "df_split.rename(columns={0:'Cat1',1:'Cat2',2:'Cat3',3:'Cat4'}, inplace=True)"
   ]
  },
  {
   "cell_type": "code",
   "execution_count": 23,
   "metadata": {},
   "outputs": [
    {
     "data": {
      "text/plain": [
       "Index(['Unnamed: 0', 'event_time', 'event_type', 'product_id', 'category_id',\n",
       "       'category_code', 'brand', 'price', 'user_id', 'user_session', 'Cat1',\n",
       "       'Cat2', 'Cat3', 'Cat4'],\n",
       "      dtype='object')"
      ]
     },
     "execution_count": 23,
     "metadata": {},
     "output_type": "execute_result"
    }
   ],
   "source": [
    "df_split.columns"
   ]
  },
  {
   "cell_type": "code",
   "execution_count": 27,
   "metadata": {},
   "outputs": [
    {
     "data": {
      "image/png": "[encoded data removed]",
      "text/plain": [
       "<Figure size 640x480 with 1 Axes>"
      ]
     },
     "metadata": {},
     "output_type": "display_data"
    }
   ],
   "source": [
    "sns.histplot(df_split, x='Cat1', hue='event_type')\n",
    "plt.show()"
   ]
  }
 ],
 "metadata": {
  "kernelspec": {
   "display_name": "Python 3",
   "language": "python",
   "name": "python3"
  },
  "language_info": {
   "codemirror_mode": {
    "name": "ipython",
    "version": 3
   },
   "file_extension": ".py",
   "mimetype": "text/x-python",
   "name": "python",
   "nbconvert_exporter": "python",
   "pygments_lexer": "ipython3",
   "version": "3.11.3"
  },
  "orig_nbformat": 4
 },
 "nbformat": 4,
 "nbformat_minor": 2
}
